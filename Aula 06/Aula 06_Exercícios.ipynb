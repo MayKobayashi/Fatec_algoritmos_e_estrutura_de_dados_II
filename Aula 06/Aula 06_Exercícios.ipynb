{
 "cells": [
  {
   "cell_type": "code",
   "execution_count": 4,
   "id": "839697a4-d3cb-4bbb-a27a-633962fc8b8a",
   "metadata": {},
   "outputs": [],
   "source": [
    "# Implementacao da classe Pilha\n",
    "class Stack:\n",
    "    # Inicia com uma pilha vazia\n",
    "    def __init__(self):\n",
    "        self.itens = []\n",
    "    \n",
    "    # Verifica se pilha esta vazia\n",
    "    def is_empty(self):\n",
    "        return self.itens == []\n",
    "    \n",
    "    # Adiciona elemento no topo (topo e o final da lista)\n",
    "    def push(self, item):\n",
    "        self.itens.append(item)\n",
    "\n",
    "    # Remove elemento do topo (final da lista)\n",
    "    def pop(self):\n",
    "        return self.itens.pop()\n",
    "    \n",
    "    # Obtem o elemento do topo (mas nao remove)\n",
    "    def peek(self):\n",
    "    # Em Python, indice -1 retorna ultimo elemento (topo)\n",
    "        return self.itens[-1]\n",
    "    \n",
    "    # Retorna o numero de elementos da pilha\n",
    "    def size(self):\n",
    "        return len(self.itens)\n",
    "    \n",
    "    # Imprime pilha na tela\n",
    "    def print_stack(self):\n",
    "        print(self.itens)"
   ]
  },
  {
   "cell_type": "code",
   "execution_count": 5,
   "id": "dff0f059-67ce-472f-988d-2ef19d2446f4",
   "metadata": {},
   "outputs": [],
   "source": [
    "def decimal_binario(numero):\n",
    "    pilha = Stack()\n",
    "\n",
    "    while numero > 0:\n",
    "        resto = numero % 2\n",
    "        pilha.push(resto)\n",
    "        numero = numero // 2\n",
    "\n",
    "    binario = \"\"\n",
    "    while not pilha.is_empty():\n",
    "        binario += str(pilha.pop())\n",
    "    return binario"
   ]
  },
  {
   "cell_type": "code",
   "execution_count": 8,
   "id": "9f2c5e13-5a9f-4621-8a51-775368277a4c",
   "metadata": {},
   "outputs": [
    {
     "name": "stdin",
     "output_type": "stream",
     "text": [
      "Informe o número decimal que gostaria de converter para binário: 18\n"
     ]
    },
    {
     "name": "stdout",
     "output_type": "stream",
     "text": [
      "O número 18 em binário é 10010.\n"
     ]
    }
   ],
   "source": [
    "decimal = int(input(\"Informe o número decimal que gostaria de converter para binário:\"))\n",
    "\n",
    "binario = decimal_binario(decimal)\n",
    "print(f\"O número {decimal} em binário é {binario}.\")"
   ]
  },
  {
   "cell_type": "code",
   "execution_count": null,
   "id": "81ef097f-359e-415d-8ebf-10d712da512f",
   "metadata": {},
   "outputs": [],
   "source": []
  }
 ],
 "metadata": {
  "kernelspec": {
   "display_name": "Python 3 (ipykernel)",
   "language": "python",
   "name": "python3"
  },
  "language_info": {
   "codemirror_mode": {
    "name": "ipython",
    "version": 3
   },
   "file_extension": ".py",
   "mimetype": "text/x-python",
   "name": "python",
   "nbconvert_exporter": "python",
   "pygments_lexer": "ipython3",
   "version": "3.12.4"
  }
 },
 "nbformat": 4,
 "nbformat_minor": 5
}
